{
 "cells": [
  {
   "cell_type": "markdown",
   "id": "072f821e-2808-44cb-a929-f47a7577e526",
   "metadata": {},
   "source": [
    "WAP TO CHECK FOR EVEN OR ODD NUMBER"
   ]
  },
  {
   "cell_type": "code",
   "execution_count": 2,
   "id": "0efff23b-91df-46be-be0f-f956407047c1",
   "metadata": {},
   "outputs": [
    {
     "name": "stdin",
     "output_type": "stream",
     "text": [
      "Enter a number:  23\n"
     ]
    },
    {
     "name": "stdout",
     "output_type": "stream",
     "text": [
      "23 is Odd.\n"
     ]
    }
   ],
   "source": [
    "def check(number):\n",
    "    if number%2 == 0:\n",
    "        print(f\"{number} is Even.\")\n",
    "    else:\n",
    "        print(f\"{number} is Odd.\")\n",
    "\n",
    "user_number = int(input(\"Enter a number: \"))\n",
    "check(user_number)"
   ]
  },
  {
   "cell_type": "markdown",
   "id": "c8400c30-297c-4afc-9a60-1c75468ccd32",
   "metadata": {},
   "source": [
    "WAP TO FIND AREA AND CIRCUMFERENCE OF CIRCLE"
   ]
  },
  {
   "cell_type": "code",
   "execution_count": 11,
   "id": "3e9111d0-2b40-492d-a368-acc837806c46",
   "metadata": {},
   "outputs": [
    {
     "name": "stdin",
     "output_type": "stream",
     "text": [
      "Enter a number:  5\n"
     ]
    },
    {
     "name": "stdout",
     "output_type": "stream",
     "text": [
      "Area of circle:  78.54\n",
      "Circumference of circle:  31.42\n"
     ]
    }
   ],
   "source": [
    "import math\n",
    "\n",
    "def circle(radius):\n",
    "    area = math.pi * (radius**2)\n",
    "    circumference = 2 * math.pi * radius\n",
    "    print(f\"Area of circle: {area: .2f}\")\n",
    "    print(f\"Circumference of circle: {circumference: .2f}\")\n",
    "    \n",
    "user_number = int(input(\"Enter a number: \"))\n",
    "circle(user_number)"
   ]
  },
  {
   "cell_type": "markdown",
   "id": "fcbf6792-441c-4641-8c46-52b57abc0097",
   "metadata": {},
   "source": [
    "WAP TO CONVERT CELSIUS TO FAHRENHEIT AND KELVIN"
   ]
  },
  {
   "cell_type": "code",
   "execution_count": 12,
   "id": "5119ba35-1946-4497-ac45-118fa050f565",
   "metadata": {},
   "outputs": [
    {
     "name": "stdin",
     "output_type": "stream",
     "text": [
      "Enter the celsius:  30\n"
     ]
    },
    {
     "name": "stdout",
     "output_type": "stream",
     "text": [
      "Kelvin: 303.15\n",
      "Fahrenheit: 86.0\n"
     ]
    }
   ],
   "source": [
    "celsius = int(input(\"Enter the celsius: \"))\n",
    "kelvin = celsius + 273.15\n",
    "fahrenheit = (celsius* 9/5) + 32\n",
    "print(f\"Kelvin: {kelvin}\")\n",
    "print(f\"Fahrenheit: {fahrenheit}\")"
   ]
  },
  {
   "cell_type": "markdown",
   "id": "5bf123aa-9e45-46ca-8ce3-ba768857ab88",
   "metadata": {},
   "source": [
    "WAP TO FIND ROOTS OF QUADRATIC EQUATIONS"
   ]
  },
  {
   "cell_type": "code",
   "execution_count": null,
   "id": "8e2154a8-3c89-45fd-b121-3bc4f645ca53",
   "metadata": {},
   "outputs": [],
   "source": [
    "import cmath\n",
    "\n",
    "a = int(input(\"Enter the a: \"))\n",
    "b = int(input(\"Enter the b: \"))\n",
    "c = int(input(\"Enter the c: \"))\n",
    "\n",
    "discriminant = (b**2) - (4*a*c)\n",
    "\n",
    "root1 = (-b + cmath.sqrt(discriminant))/2*a\n",
    "root2 = (-b - cmath.sqrt(discriminant))/2*a\n",
    "\n",
    "print(f\"The roots are: {root1} and {root2}\")"
   ]
  },
  {
   "cell_type": "markdown",
   "id": "4857d658-c461-4283-85de-2f3932854097",
   "metadata": {},
   "source": [
    "WAP TO CHECK WORDS ARE AMALGRAMS OR NOT"
   ]
  },
  {
   "cell_type": "code",
   "execution_count": 28,
   "id": "fbd45d38-6ea7-46f7-9a86-4985f9c81f9a",
   "metadata": {},
   "outputs": [
    {
     "name": "stdin",
     "output_type": "stream",
     "text": [
      "Enter first word:  silent\n",
      "Enter second word:  listen\n"
     ]
    },
    {
     "name": "stdout",
     "output_type": "stream",
     "text": [
      "They are amalgrams.\n"
     ]
    }
   ],
   "source": [
    "word1 = input(\"Enter first word: \")\n",
    "word2 = input(\"Enter second word: \")\n",
    "\n",
    "if sorted(word1) == sorted(word2):\n",
    "    print(\"They are amalgrams.\")\n",
    "else:\n",
    "    print(\"They are not amalgrams.\")"
   ]
  },
  {
   "cell_type": "markdown",
   "id": "7ed80a88-07c5-4281-82a0-e746c923e26d",
   "metadata": {},
   "source": [
    "WAP TO COUNT NUMBER OF WORDS IN A SENTENCE"
   ]
  },
  {
   "cell_type": "code",
   "execution_count": 30,
   "id": "7f272498-1da3-4590-9bb2-065344a5ce9f",
   "metadata": {},
   "outputs": [
    {
     "name": "stdin",
     "output_type": "stream",
     "text": [
      "Enter the sentence:  hello how r u\n"
     ]
    },
    {
     "name": "stdout",
     "output_type": "stream",
     "text": [
      "words: 4\n"
     ]
    }
   ],
   "source": [
    "sentence = input(\"Enter the sentence: \")\n",
    "length = sentence.split()\n",
    "words = len(length)\n",
    "print(\"words:\", words)"
   ]
  },
  {
   "cell_type": "code",
   "execution_count": null,
   "id": "18040199-04d0-4bed-9b0d-e631043cb8b4",
   "metadata": {},
   "outputs": [],
   "source": []
  }
 ],
 "metadata": {
  "kernelspec": {
   "display_name": "Python 3 (ipykernel)",
   "language": "python",
   "name": "python3"
  },
  "language_info": {
   "codemirror_mode": {
    "name": "ipython",
    "version": 3
   },
   "file_extension": ".py",
   "mimetype": "text/x-python",
   "name": "python",
   "nbconvert_exporter": "python",
   "pygments_lexer": "ipython3",
   "version": "3.12.3"
  }
 },
 "nbformat": 4,
 "nbformat_minor": 5
}
