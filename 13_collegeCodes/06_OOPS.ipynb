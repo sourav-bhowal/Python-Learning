{
 "cells": [
  {
   "cell_type": "markdown",
   "id": "968749b0-e04b-467c-a028-d00f7b6743cc",
   "metadata": {},
   "source": [
    "CLASS BASICS - DEFINE A PERSON WITH TWO METHODS, CREATE INSTANCES AND ACCESS THEM"
   ]
  },
  {
   "cell_type": "code",
   "execution_count": 1,
   "id": "e54b3e6d-fdde-4bb5-b24b-f9081cdd95a4",
   "metadata": {},
   "outputs": [
    {
     "name": "stdout",
     "output_type": "stream",
     "text": [
      "Rahul is of age: 55\n",
      "Gauri is of age: 30\n"
     ]
    }
   ],
   "source": [
    "class Person:\n",
    "    def __init__(self, name, age):\n",
    "        self.name = name\n",
    "        self.age = age\n",
    "\n",
    "person1 = Person(\"Rahul\", 55)\n",
    "person2 = Person(\"Gauri\", 30)\n",
    "\n",
    "print(f\"{person1.name} is of age: {person1.age}\")\n",
    "print(f\"{person2.name} is of age: {person2.age}\")"
   ]
  },
  {
   "cell_type": "markdown",
   "id": "4a3dfc1e-49c0-40a2-92dc-e90d131c172b",
   "metadata": {},
   "source": [
    "POLYMORPHISM - PROJECT ON BANKING SYSTEM CONSISTS OF SAVINGS ACCOUNT, CURRENT ACCOUNT, INVESTMENT ACCOUNT"
   ]
  },
  {
   "cell_type": "code",
   "execution_count": 3,
   "id": "7e8577a5-d873-4e5a-8bd6-899699196dd8",
   "metadata": {},
   "outputs": [
    {
     "name": "stdout",
     "output_type": "stream",
     "text": [
      "Savings Account Balance: 1500\n",
      "Savings Account Balance after interest: 1575.0\n",
      "Current Account Balance: -100\n"
     ]
    }
   ],
   "source": [
    "class Account:\n",
    "    def __init__(self, accountNo, balance = 0):\n",
    "        self.accountNo = accountNo\n",
    "        self.balance = balance\n",
    "\n",
    "    def deposit(self, amount):\n",
    "        self.balance += amount\n",
    "\n",
    "    def withdraw(self, amount):\n",
    "        if amount <= self.balance:\n",
    "            self.balance -= amount\n",
    "        else:\n",
    "            print(\"Insufficient Money. Deposit Funds to withdraw.\")\n",
    "\n",
    "    def calculateInterest(self, interestRate):\n",
    "        self.balance = self.balance + (self.balance * interestRate)\n",
    "\n",
    "\n",
    "\n",
    "class SavingsAccount(Account):\n",
    "    def __init__(self, accountNo, balance = 0, interestRate = 0.05):\n",
    "        super().__init__(accountNo, balance)\n",
    "        self.interestRate = interestRate\n",
    "\n",
    "    def calculateInterest(self):\n",
    "        self.balance = self.balance + (self.balance * self.interestRate)\n",
    "        return self.balance\n",
    "\n",
    "\n",
    "\n",
    "class CurrentAccount(Account):\n",
    "    def __init__(self, accountNo, balance = 0, overDraftLimit = 200):\n",
    "        super().__init__(accountNo, balance)\n",
    "        self.overDraftLimit = overDraftLimit\n",
    "\n",
    "    def withdraw(self, amount):\n",
    "        if amount <= self.balance + self.overDraftLimit:\n",
    "            self.balance -= amount\n",
    "        else:\n",
    "            print(\"Exceeds OverDraft Limit.\")\n",
    "\n",
    "\n",
    "person1 = SavingsAccount(\"A01\", 1000)\n",
    "person1.deposit(1000)\n",
    "person1.withdraw(500)\n",
    "print(\"Savings Account Balance:\", person1.balance)\n",
    "print(\"Savings Account Balance after interest:\", person1.calculateInterest())\n",
    "\n",
    "\n",
    "person2 = CurrentAccount(\"A02\", 5000)\n",
    "person2.withdraw(5100)\n",
    "print(\"Current Account Balance:\", person2.balance)"
   ]
  },
  {
   "cell_type": "code",
   "execution_count": null,
   "id": "6750e14a-1afd-4037-9bca-6b83c2d410ab",
   "metadata": {},
   "outputs": [],
   "source": []
  }
 ],
 "metadata": {
  "kernelspec": {
   "display_name": "Python 3 (ipykernel)",
   "language": "python",
   "name": "python3"
  },
  "language_info": {
   "codemirror_mode": {
    "name": "ipython",
    "version": 3
   },
   "file_extension": ".py",
   "mimetype": "text/x-python",
   "name": "python",
   "nbconvert_exporter": "python",
   "pygments_lexer": "ipython3",
   "version": "3.12.3"
  }
 },
 "nbformat": 4,
 "nbformat_minor": 5
}
