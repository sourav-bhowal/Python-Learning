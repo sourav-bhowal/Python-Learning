{
 "cells": [
  {
   "cell_type": "markdown",
   "id": "b5a20a2b-9bf3-4ffb-a311-6f95aaca9ae0",
   "metadata": {},
   "source": [
    "ITERTOOLS AND OTHERS"
   ]
  },
  {
   "cell_type": "code",
   "execution_count": 11,
   "id": "75c681db-07b7-47b1-b8c7-2461a325b6c7",
   "metadata": {},
   "outputs": [
    {
     "name": "stdout",
     "output_type": "stream",
     "text": [
      "[(1, 4), (1, 5), (1, 6), (2, 4), (2, 5), (2, 6), (3, 4), (3, 5), (3, 6)]\n",
      "[('A', 'B', 'C'), ('A', 'C', 'B'), ('B', 'A', 'C'), ('B', 'C', 'A'), ('C', 'A', 'B'), ('C', 'B', 'A')]\n",
      "['wwe', 'wwe', 'wwe', 'wwe', 'wwe', 'wwe', 'wwe', 'wwe', 'wwe', 'wwe']\n",
      "['Riya', 'Ramesh', 'Scout', 'Suresh', 'Payal', 'Mortal', 'Gita', 'Sachin', 'Zoya']\n",
      "[('hi', 'ji'), ('my', 'pi'), ('bye', 'rtx')]\n",
      "[(0, ('Rohit', 'Sharma')), (1, ('Virat', 'Kohli')), (2, ('Brock', 'Lesnar'))]\n"
     ]
    }
   ],
   "source": [
    "import itertools\n",
    "\n",
    "num1 = [1, 2, 3]\n",
    "num2 = [4, 5, 6]\n",
    "result1 = list(itertools.product(num1, num2))\n",
    "print(result1)\n",
    "##########################################################################\n",
    "num3 = {\"A\", \"B\", \"C\"}\n",
    "result2 = list(itertools.permutations(num3))\n",
    "print(result2)\n",
    "##########################################################################\n",
    "result11 = list(itertools.repeat(\"wwe\", 10))\n",
    "print(result11)\n",
    "##########################################################################\n",
    "num11 = [\"Riya\", \"Ramesh\", \"Scout\"]\n",
    "num22 = [\"Suresh\", \"Payal\", \"Mortal\"]\n",
    "num33 = [\"Gita\", \"Sachin\", \"Zoya\"]\n",
    "result22 = list(itertools.chain(num11, num22, num33))\n",
    "print(result22)\n",
    "##########################################################################\n",
    "num4 = (\"hi\", \"my\", \"bye\")\n",
    "num5 = (\"ji\", \"pi\", \"rtx\")\n",
    "result3 = list(zip(num4, num5))\n",
    "print(result3)\n",
    "##########################################################################\n",
    "num6 = [\n",
    "        (\"Rohit\", \"Sharma\"), \n",
    "        (\"Virat\", \"Kohli\"), \n",
    "        (\"Brock\", \"Lesnar\")\n",
    "]\n",
    "result4 = list(enumerate(num6))\n",
    "print(result4)"
   ]
  },
  {
   "cell_type": "markdown",
   "id": "5552f1b7-785e-49ce-aead-b43527e74647",
   "metadata": {},
   "source": [
    "PROJECT ON A TEAM MANAGEMENT USING ITERTOOLS"
   ]
  },
  {
   "cell_type": "code",
   "execution_count": 54,
   "id": "043dcab8-4f7d-47a0-b866-367519acb21e",
   "metadata": {
    "scrolled": true
   },
   "outputs": [
    {
     "name": "stdout",
     "output_type": "stream",
     "text": [
      "-----DEVELOPERS REPORT-----\n",
      "1. ProjectA\n",
      "----Developer 1: Ramesh - progress: 50%\n",
      "----Developer 2: Suresh - progress: 70%\n",
      "----Developer 3: Deya - progress: 60%\n",
      "----Developer 4: Roshni - progress: 44%\n",
      "----Developer 5: Priya - progress: 57%\n",
      "----Developer 6: Pakhi - progress: 88%\n",
      "----Developer 7: Rami - progress: 66%\n",
      "----Developer 8: Suren - progress: 99%\n",
      "2. ProjectB\n",
      "----Developer 1: Ramesh - progress: 50%\n",
      "----Developer 2: Suresh - progress: 70%\n",
      "----Developer 3: Deya - progress: 60%\n",
      "----Developer 4: Roshni - progress: 44%\n",
      "----Developer 5: Priya - progress: 57%\n",
      "----Developer 6: Pakhi - progress: 88%\n",
      "----Developer 7: Rami - progress: 66%\n",
      "----Developer 8: Suren - progress: 99%\n",
      "3. ProjectC\n",
      "----Developer 1: Ramesh - progress: 50%\n",
      "----Developer 2: Suresh - progress: 70%\n",
      "----Developer 3: Deya - progress: 60%\n",
      "----Developer 4: Roshni - progress: 44%\n",
      "----Developer 5: Priya - progress: 57%\n",
      "----Developer 6: Pakhi - progress: 88%\n",
      "----Developer 7: Rami - progress: 66%\n",
      "----Developer 8: Suren - progress: 99%\n"
     ]
    }
   ],
   "source": [
    "import itertools\n",
    "\n",
    "projects = [\"ProjectA\", \"ProjectB\", \"ProjectC\"]\n",
    "\n",
    "developersProjectA = [(\"Ramesh\", 50), (\"Suresh\", 70), (\"Deya\", 60)]\n",
    "developersProjectB = [(\"Roshni\", 44), (\"Priya\", 57), (\"Pakhi\", 88)]\n",
    "developersProjectC = [(\"Rami\", 66), (\"Suren\", 99)]\n",
    "\n",
    "allDevelopers = list(itertools.chain(developersProjectA, developersProjectB, developersProjectC))\n",
    "\n",
    "print(\"-----DEVELOPERS REPORT-----\")\n",
    "\n",
    "for project, developers in zip(projects, allDevelopers):\n",
    "    print(f\"{projects.index(project) + 1}. {project}\")\n",
    "\n",
    "    for order, (developer, progress) in enumerate(allDevelopers, start = 1):\n",
    "        print(f\"----Developer {order}: {developer} - progress: {progress}%\")"
   ]
  },
  {
   "cell_type": "code",
   "execution_count": 56,
   "id": "12fc6b05-2552-4bb7-b27d-03015b12c118",
   "metadata": {},
   "outputs": [
    {
     "name": "stdout",
     "output_type": "stream",
     "text": [
      "-----DEVELOPERS REPORT-----\n",
      "1. ProjectA\n",
      "----Developer 1: Ramesh - progress: 50%\n",
      "----Developer 2: Suresh - progress: 70%\n",
      "----Developer 3: Deya - progress: 60%\n",
      "2. ProjectB\n",
      "----Developer 1: Roshni - progress: 44%\n",
      "----Developer 2: Priya - progress: 57%\n",
      "----Developer 3: Pakhi - progress: 88%\n",
      "3. ProjectC\n",
      "----Developer 1: Rami - progress: 66%\n",
      "----Developer 2: Suren - progress: 99%\n"
     ]
    }
   ],
   "source": [
    "import itertools\n",
    "\n",
    "projects = [\"ProjectA\", \"ProjectB\", \"ProjectC\"]\n",
    "\n",
    "developersProjectA = [(\"Ramesh\", 50), (\"Suresh\", 70), (\"Deya\", 60)]\n",
    "developersProjectB = [(\"Roshni\", 44), (\"Priya\", 57), (\"Pakhi\", 88)]\n",
    "developersProjectC = [(\"Rami\", 66), (\"Suren\", 99)]\n",
    "\n",
    "# allDevelopers = list(itertools.chain(developersProjectA, developersProjectB, developersProjectC))\n",
    "\n",
    "print(\"-----DEVELOPERS REPORT-----\")\n",
    "\n",
    "for project, developers in zip(projects, [developersProjectA, developersProjectB, developersProjectC]):\n",
    "    print(f\"{projects.index(project) + 1}. {project}\")\n",
    "\n",
    "    for order, (developer, progress) in enumerate(developers, start = 1):\n",
    "        print(f\"----Developer {order}: {developer} - progress: {progress}%\")"
   ]
  }
 ],
 "metadata": {
  "kernelspec": {
   "display_name": "Python 3 (ipykernel)",
   "language": "python",
   "name": "python3"
  },
  "language_info": {
   "codemirror_mode": {
    "name": "ipython",
    "version": 3
   },
   "file_extension": ".py",
   "mimetype": "text/x-python",
   "name": "python",
   "nbconvert_exporter": "python",
   "pygments_lexer": "ipython3",
   "version": "3.12.3"
  }
 },
 "nbformat": 4,
 "nbformat_minor": 5
}
