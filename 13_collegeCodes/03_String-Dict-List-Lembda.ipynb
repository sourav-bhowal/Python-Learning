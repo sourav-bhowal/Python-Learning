{
 "cells": [
  {
   "cell_type": "markdown",
   "id": "0109a028-73fd-4cbb-81c2-f74272708b68",
   "metadata": {},
   "source": [
    "STRING METHODS"
   ]
  },
  {
   "cell_type": "code",
   "execution_count": 1,
   "id": "2d955211-c326-4bf4-85bc-d489ab28647b",
   "metadata": {},
   "outputs": [
    {
     "name": "stdout",
     "output_type": "stream",
     "text": [
      "w\n",
      "8\n",
      "owe\n",
      "oe\n",
      "erful\n",
      "powe\n",
      "l\n",
      "powerf\n",
      "rful\n",
      "helloworld\n",
      "True\n"
     ]
    }
   ],
   "source": [
    "x = \"powerful\"\n",
    "\n",
    "print(x[2])\n",
    "print(len(x))\n",
    "\n",
    "print(x[1:4])\n",
    "print(x[1:5:2])\n",
    "print(x[3:])\n",
    "print(x[:4])\n",
    "print(x[-1])\n",
    "print(x[:-2])\n",
    "print(x[-4:])\n",
    "#################################################################\n",
    "y = \"hello\" + \"world\"\n",
    "print(y)\n",
    "################################################################\n",
    "z = \"computer\"\n",
    "print(\"p\" in z)\n"
   ]
  },
  {
   "cell_type": "markdown",
   "id": "c995c92d-2fb1-485e-b1dd-964b0cd51036",
   "metadata": {},
   "source": [
    "LIST METHODS"
   ]
  },
  {
   "cell_type": "code",
   "execution_count": 2,
   "id": "addde580-fd95-45c7-bfd5-7e25a98e22da",
   "metadata": {},
   "outputs": [
    {
     "name": "stdout",
     "output_type": "stream",
     "text": [
      "[55, 66, 77, 88, 99]\n",
      "[55, 66, 33, 77, 88, 99]\n",
      "[55, 33, 77, 88, 99]\n",
      "[55, 33, 88, 99]\n",
      "[33, 55, 88, 99]\n",
      "[99, 88, 55, 33]\n",
      "198\n",
      "176\n",
      "110\n",
      "66\n",
      "0 99\n",
      "1 88\n",
      "2 55\n",
      "3 33\n",
      "99 4 33\n",
      "meet\n",
      "False\n",
      "['nice', 'to', 'meet', 'you']\n"
     ]
    }
   ],
   "source": [
    "numbers = [55, 66, 77, 88]\n",
    "\n",
    "numbers.append(99)\n",
    "print(numbers)\n",
    "\n",
    "numbers.insert(2, 33)\n",
    "print(numbers)\n",
    "\n",
    "numbers.remove(66)\n",
    "print(numbers)\n",
    "\n",
    "numbers.pop(2)\n",
    "print(numbers)\n",
    "\n",
    "numbers.sort()\n",
    "print(numbers)\n",
    "\n",
    "numbers.reverse()\n",
    "print(numbers)\n",
    "\n",
    "for number in numbers:\n",
    "    print(number*2)\n",
    "\n",
    "for index, number in enumerate(numbers):\n",
    "    print(index, number)\n",
    "\n",
    "print(max(numbers), len(numbers), min(numbers))\n",
    "##############################################################################\n",
    "letters = [\"nice\", \"to\", \"meet\", \"you\"]\n",
    "\n",
    "print(letters[2])\n",
    "\n",
    "print(\"to\" not in letters)\n",
    "##############################################################################\n",
    "letters2 = [\"nice\", \"to\"] + [\"meet\", \"you\"]\n",
    "print(letters2)"
   ]
  },
  {
   "cell_type": "markdown",
   "id": "d184ca01-8402-44f1-bf31-b8cb7beacb20",
   "metadata": {},
   "source": [
    "DICTIONARY METHODS"
   ]
  },
  {
   "cell_type": "code",
   "execution_count": 3,
   "id": "a6473c03-8a4b-47ef-9a9e-20a0b543b3d8",
   "metadata": {},
   "outputs": [
    {
     "name": "stdout",
     "output_type": "stream",
     "text": [
      "dict_keys(['name', 'age', 'hobby', 'dept'])\n",
      "dict_values(['Alexa', 21, 'sports', 'cse'])\n",
      "dict_items([('name', 'Alexa'), ('age', 21), ('hobby', 'sports'), ('dept', 'cse')])\n",
      "21\n",
      "cse\n",
      "{'name': 'Alexa', 'age': 21, 'hobby': 'sports', 'email': 'hello@in', 'spouse': 'no'}\n",
      "name\n",
      "age\n",
      "hobby\n",
      "email\n",
      "spouse\n",
      "Alexa\n",
      "21\n",
      "sports\n",
      "hello@in\n",
      "no\n",
      "name Alexa\n",
      "age 21\n",
      "hobby sports\n",
      "email hello@in\n",
      "spouse no\n",
      "{'name': {'firstname': 'tanmay', 'lastname': 'singh'}, 'program': {'course': 'Btech', 'dept': 'CSE'}}\n"
     ]
    }
   ],
   "source": [
    "myDict = {\n",
    "    \"name\": \"Alexa\",\n",
    "    \"age\": 21,\n",
    "    \"hobby\": \"sports\",\n",
    "    \"dept\": \"cse\"\n",
    "}\n",
    "\n",
    "print(myDict.keys())\n",
    "\n",
    "print(myDict.values())\n",
    "\n",
    "print(myDict.items())\n",
    "\n",
    "print(myDict.get(\"age\"))\n",
    "\n",
    "print(myDict.pop(\"dept\"))\n",
    "\n",
    "newData = {\n",
    "    \"email\": \"hello@in\",\n",
    "    \"spouse\": \"no\"\n",
    "}\n",
    "\n",
    "myDict.update(newData)\n",
    "print(myDict)\n",
    "\n",
    "for key in myDict.keys():\n",
    "    print(key)\n",
    "\n",
    "for value in myDict.values():\n",
    "    print(value)\n",
    "\n",
    "for key, value in myDict.items():\n",
    "    print(key, value)\n",
    "##############################################################################\n",
    "myDict2 = {\n",
    "    \"name\": {\n",
    "        \"firstname\": \"tanmay\",\n",
    "        \"lastname\": \"singh\"\n",
    "    },\n",
    "    \"program\": {\n",
    "        \"course\": \"Btech\",\n",
    "        \"dept\": \"CSE\"\n",
    "    }\n",
    "}\n",
    "\n",
    "print(myDict2)"
   ]
  },
  {
   "cell_type": "markdown",
   "id": "7a2313d1-1149-4678-a279-6bb4e4432453",
   "metadata": {},
   "source": [
    "LAMBDA FUNCTIONS"
   ]
  },
  {
   "cell_type": "code",
   "execution_count": 6,
   "id": "a9a2e02b-799b-4f64-9056-9054986787c6",
   "metadata": {},
   "outputs": [
    {
     "name": "stdout",
     "output_type": "stream",
     "text": [
      "4\n",
      "5\n",
      "[100, 400, 1089, 1600, 3025]\n",
      "[10, 20, 40]\n",
      "[{'name': 'rohan', 'age': 20}, {'name': 'roshni', 'age': 24}, {'name': 'roman', 'age': 30}]\n"
     ]
    }
   ],
   "source": [
    "square = lambda num: num**2\n",
    "print(square(2))\n",
    "#############################################################################\n",
    "addition = lambda num1, num2: num1+num2\n",
    "print(addition(3, 2))\n",
    "##############################################################################\n",
    "numbers = [10, 20, 33, 40, 55]\n",
    "\n",
    "squares = list(map(lambda num: num**2, numbers))\n",
    "print(squares)\n",
    "\n",
    "evens = list(filter(lambda num: num%2 == 0, numbers))\n",
    "print(evens)\n",
    "##################################################################################\n",
    "students = [\n",
    "    {\n",
    "        \"name\": \"rohan\",\n",
    "        \"age\": 20\n",
    "    },\n",
    "    {\n",
    "        \"name\": \"roshni\",\n",
    "        \"age\": 24\n",
    "    },\n",
    "    {\n",
    "        \"name\": \"roman\",\n",
    "        \"age\": 30\n",
    "    }\n",
    "]\n",
    "\n",
    "result = sorted(students, key = lambda student: student[\"age\"])\n",
    "print(result)"
   ]
  },
  {
   "cell_type": "code",
   "execution_count": null,
   "id": "8bf106e2-48b6-4b80-99d5-832a42de9cd7",
   "metadata": {},
   "outputs": [],
   "source": []
  }
 ],
 "metadata": {
  "kernelspec": {
   "display_name": "Python 3 (ipykernel)",
   "language": "python",
   "name": "python3"
  },
  "language_info": {
   "codemirror_mode": {
    "name": "ipython",
    "version": 3
   },
   "file_extension": ".py",
   "mimetype": "text/x-python",
   "name": "python",
   "nbconvert_exporter": "python",
   "pygments_lexer": "ipython3",
   "version": "3.12.3"
  }
 },
 "nbformat": 4,
 "nbformat_minor": 5
}
