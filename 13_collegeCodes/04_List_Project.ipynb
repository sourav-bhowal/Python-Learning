{
 "cells": [
  {
   "cell_type": "markdown",
   "id": "3f3754e0-cb22-4eac-9db7-97a5bbf33400",
   "metadata": {},
   "source": [
    "PROJECT FOR STUDENT RESULTS"
   ]
  },
  {
   "cell_type": "code",
   "execution_count": 1,
   "id": "6d27c5ad-a6c7-42c9-bbaf-53559782cf90",
   "metadata": {},
   "outputs": [
    {
     "name": "stdin",
     "output_type": "stream",
     "text": [
      "Enter the score:  55\n"
     ]
    },
    {
     "name": "stdout",
     "output_type": "stream",
     "text": [
      "[10, 20, 30, 40, 50, 60, 55]\n"
     ]
    },
    {
     "name": "stdin",
     "output_type": "stream",
     "text": [
      "Enter the position:  3\n",
      "Enter the score:  44\n"
     ]
    },
    {
     "name": "stdout",
     "output_type": "stream",
     "text": [
      "[10, 20, 30, 44, 40, 50, 60, 55]\n"
     ]
    },
    {
     "name": "stdin",
     "output_type": "stream",
     "text": [
      "Enter the score:  40\n"
     ]
    },
    {
     "name": "stdout",
     "output_type": "stream",
     "text": [
      "[10, 20, 30, 44, 50, 60, 55]\n"
     ]
    },
    {
     "name": "stdin",
     "output_type": "stream",
     "text": [
      "Enter the position:  3\n"
     ]
    },
    {
     "name": "stdout",
     "output_type": "stream",
     "text": [
      "Absent student score: 44\n",
      "[10, 20, 30, 50, 60, 55]\n",
      "[10, 20, 30, 50, 55, 60]\n",
      "[60, 55, 50, 30, 20, 10]\n"
     ]
    }
   ],
   "source": [
    "studentScores = [10, 20, 30, 40, 50, 60]\n",
    "\n",
    "score = int(input(\"Enter the score: \"))\n",
    "studentScores.append(score)\n",
    "print(studentScores)\n",
    "\n",
    "pos = int(input(\"Enter the position: \"))\n",
    "score = int(input(\"Enter the score: \"))\n",
    "studentScores.insert(pos, score)\n",
    "print(studentScores)\n",
    "\n",
    "score = int(input(\"Enter the score: \"))\n",
    "studentScores.remove(score)\n",
    "print(studentScores)\n",
    "\n",
    "pos = int(input(\"Enter the position: \"))\n",
    "print(f\"Absent student score: {studentScores[pos]}\")\n",
    "studentScores.pop(pos)\n",
    "print(studentScores)\n",
    "\n",
    "studentScores.sort()\n",
    "print(studentScores)\n",
    "\n",
    "studentScores.reverse()\n",
    "print(studentScores)"
   ]
  },
  {
   "cell_type": "code",
   "execution_count": null,
   "id": "861f2514-c838-452a-ad4f-2dcbc2a5ae10",
   "metadata": {},
   "outputs": [],
   "source": []
  }
 ],
 "metadata": {
  "kernelspec": {
   "display_name": "Python 3 (ipykernel)",
   "language": "python",
   "name": "python3"
  },
  "language_info": {
   "codemirror_mode": {
    "name": "ipython",
    "version": 3
   },
   "file_extension": ".py",
   "mimetype": "text/x-python",
   "name": "python",
   "nbconvert_exporter": "python",
   "pygments_lexer": "ipython3",
   "version": "3.12.3"
  }
 },
 "nbformat": 4,
 "nbformat_minor": 5
}
