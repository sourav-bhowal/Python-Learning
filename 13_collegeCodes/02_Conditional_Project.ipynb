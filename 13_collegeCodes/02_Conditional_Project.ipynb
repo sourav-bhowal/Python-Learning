{
 "cells": [
  {
   "cell_type": "markdown",
   "id": "aeb4376a-af5d-4d1f-af3e-5b961b78785d",
   "metadata": {},
   "source": [
    "PROJECT ON INSURANCE BASED ON GENDER, AGE AND CAR"
   ]
  },
  {
   "cell_type": "code",
   "execution_count": 5,
   "id": "6311c6c5-d1e7-48c2-9036-380999a38856",
   "metadata": {},
   "outputs": [
    {
     "name": "stdout",
     "output_type": "stream",
     "text": [
      "Insurance offered is: 105000.0\n"
     ]
    }
   ],
   "source": [
    "gender = input(\"Enter your gender: \")\n",
    "\n",
    "if gender == \"male\":\n",
    "    age = int(input(\"Enter your age: \"))\n",
    "    \n",
    "    if age <= 26:\n",
    "        insurancePercent = 28\n",
    "    else:\n",
    "        insurancePercent = 9\n",
    "\n",
    "elif gender == \"female\":\n",
    "    carType = input(\"Enter you car type\")\n",
    "\n",
    "    if carType == \"sports\":\n",
    "        insurancePercent = 21\n",
    "    else: \n",
    "        insurancePercent = 12\n",
    "\n",
    "else:\n",
    "    print(\"Wrong Input. Please enter a valid gender\")\n",
    "    insurancePercent = None\n",
    "\n",
    "carPrice = int(input(\"Enter your car price: \"))\n",
    "insuranceOffer = carPrice * insurancePercent/100\n",
    "\n",
    "print(f\"Insurance offered is: {insuranceOffer}\")"
   ]
  },
  {
   "cell_type": "code",
   "execution_count": null,
   "id": "2a6c7dea-ad4a-437f-aa2b-c38c5c069416",
   "metadata": {},
   "outputs": [],
   "source": []
  }
 ],
 "metadata": {
  "kernelspec": {
   "display_name": "Python 3 (ipykernel)",
   "language": "python",
   "name": "python3"
  },
  "language_info": {
   "codemirror_mode": {
    "name": "ipython",
    "version": 3
   },
   "file_extension": ".py",
   "mimetype": "text/x-python",
   "name": "python",
   "nbconvert_exporter": "python",
   "pygments_lexer": "ipython3",
   "version": "3.12.3"
  }
 },
 "nbformat": 4,
 "nbformat_minor": 5
}
